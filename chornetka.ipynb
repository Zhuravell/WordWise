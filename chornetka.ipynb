{
 "cells": [
  {
   "cell_type": "code",
   "execution_count": 1,
   "metadata": {},
   "outputs": [],
   "source": [
    "raw_input = \"ingewikkeld | complex meaning\"\n",
    "words = raw_input.split(' ')\n",
    "\n"
   ]
  },
  {
   "cell_type": "code",
   "execution_count": 2,
   "metadata": {},
   "outputs": [
    {
     "name": "stdout",
     "output_type": "stream",
     "text": [
      "['ingewikkeld', '|', 'complex', 'meaning']\n"
     ]
    }
   ],
   "source": [
    "print(words)"
   ]
  },
  {
   "cell_type": "code",
   "execution_count": 4,
   "metadata": {},
   "outputs": [
    {
     "data": {
      "text/plain": [
       "'ingewikkeld | | | complex | meaning'"
      ]
     },
     "execution_count": 4,
     "metadata": {},
     "output_type": "execute_result"
    }
   ],
   "source": [
    "words_together = ' | '.join(words)\n",
    "words_together"
   ]
  },
  {
   "cell_type": "code",
   "execution_count": 16,
   "metadata": {},
   "outputs": [],
   "source": [
    "argos = [\"ingewikkeld\", \"|\", \"complicated\", \"|\", \"Flikken\", \"|\", \"tricky\", \"case\", \"|\", \"De\", \"situatie\", \"is\", \"ingewikkeld.\"]"
   ]
  },
  {
   "cell_type": "code",
   "execution_count": 20,
   "metadata": {},
   "outputs": [
    {
     "name": "stdout",
     "output_type": "stream",
     "text": [
      "['ingewikkeld', '|', 'complicated', '|', 'Flikken', '|', 'tricky', 'case', '|', 'De', 'situatie', 'is', 'ingewikkeld.']\n"
     ]
    }
   ],
   "source": [
    "print(argos)"
   ]
  },
  {
   "cell_type": "code",
   "execution_count": 17,
   "metadata": {},
   "outputs": [],
   "source": [
    "input=\" \".join(argos)"
   ]
  },
  {
   "cell_type": "code",
   "execution_count": 21,
   "metadata": {},
   "outputs": [
    {
     "name": "stdout",
     "output_type": "stream",
     "text": [
      "ingewikkeld | complicated | Flikken | tricky case | De situatie is ingewikkeld.\n"
     ]
    }
   ],
   "source": [
    "print(input)"
   ]
  },
  {
   "cell_type": "code",
   "execution_count": 22,
   "metadata": {},
   "outputs": [
    {
     "name": "stdout",
     "output_type": "stream",
     "text": [
      "<class 'str'>\n"
     ]
    }
   ],
   "source": [
    "print(type(input))\n"
   ]
  },
  {
   "cell_type": "code",
   "execution_count": 6,
   "metadata": {},
   "outputs": [],
   "source": [
    "parts = [\"lists\", 'tuples']"
   ]
  },
  {
   "cell_type": "code",
   "execution_count": 7,
   "metadata": {},
   "outputs": [
    {
     "ename": "NameError",
     "evalue": "name 'parts' is not defined",
     "output_type": "error",
     "traceback": [
      "\u001b[0;31m---------------------------------------------------------------------------\u001b[0m",
      "\u001b[0;31mNameError\u001b[0m                                 Traceback (most recent call last)",
      "Cell \u001b[0;32mIn[7], line 3\u001b[0m\n\u001b[1;32m      1\u001b[0m \u001b[38;5;28;01mtry\u001b[39;00m:\n\u001b[1;32m      2\u001b[0m     \u001b[38;5;66;03m# Code that might cause an error\u001b[39;00m\n\u001b[0;32m----> 3\u001b[0m     value \u001b[38;5;241m=\u001b[39m \u001b[43mparts\u001b[49m[\u001b[38;5;241m2\u001b[39m]\n\u001b[1;32m      4\u001b[0m \u001b[38;5;28;01mexcept\u001b[39;00m \u001b[38;5;167;01mIndexError\u001b[39;00m:\n\u001b[1;32m      5\u001b[0m     \u001b[38;5;66;03m# What to do if that error happens\u001b[39;00m\n\u001b[1;32m      6\u001b[0m     value \u001b[38;5;241m=\u001b[39m \u001b[38;5;28;01mNone\u001b[39;00m\n",
      "\u001b[0;31mNameError\u001b[0m: name 'parts' is not defined"
     ]
    }
   ],
   "source": [
    "try:\n",
    "    # Code that might cause an error\n",
    "    value = parts[2]\n",
    "except IndexError:\n",
    "    # What to do if that error happens\n",
    "    value = None\n"
   ]
  },
  {
   "cell_type": "code",
   "execution_count": 1,
   "metadata": {},
   "outputs": [],
   "source": [
    "import os, asyncio, signal, sys, random\n",
    "\n",
    "from telegram import Update, BotCommand\n",
    "from telegram.ext import ApplicationBuilder, CommandHandler, ContextTypes, MessageHandler, filters\n",
    "from dotenv import load_dotenv\n",
    "\n",
    "from models.schema import DutchEnglishVocab\n",
    "from models.db_setup import Session \n",
    "\n",
    "load_dotenv()\n",
    "Bot_Token = os.getenv(\"TELEGRAM_BOT_TOKEN\") "
   ]
  },
  {
   "cell_type": "code",
   "execution_count": 6,
   "metadata": {},
   "outputs": [
    {
     "name": "stdout",
     "output_type": "stream",
     "text": [
      "[<models.schema.DutchEnglishVocab object at 0x7fc67c3cd190>, <models.schema.DutchEnglishVocab object at 0x7fc67c3cd1f0>, <models.schema.DutchEnglishVocab object at 0x7fc67c660ee0>, <models.schema.DutchEnglishVocab object at 0x7fc67c660eb0>, <models.schema.DutchEnglishVocab object at 0x7fc67c660f40>, <models.schema.DutchEnglishVocab object at 0x7fc67c660f10>, <models.schema.DutchEnglishVocab object at 0x7fc67c660be0>, <models.schema.DutchEnglishVocab object at 0x7fc67c6609d0>, <models.schema.DutchEnglishVocab object at 0x7fc67c660a30>, <models.schema.DutchEnglishVocab object at 0x7fc67c660070>, <models.schema.DutchEnglishVocab object at 0x7fc67c660fa0>, <models.schema.DutchEnglishVocab object at 0x7fc67c6608b0>, <models.schema.DutchEnglishVocab object at 0x7fc67c660640>, <models.schema.DutchEnglishVocab object at 0x7fc67c660fd0>, <models.schema.DutchEnglishVocab object at 0x7fc67c6603a0>, <models.schema.DutchEnglishVocab object at 0x7fc67c660e80>, <models.schema.DutchEnglishVocab object at 0x7fc67c660d90>, <models.schema.DutchEnglishVocab object at 0x7fc67c660b80>, <models.schema.DutchEnglishVocab object at 0x7fc67c660af0>, <models.schema.DutchEnglishVocab object at 0x7fc67c660ac0>]\n"
     ]
    }
   ],
   "source": [
    "session = Session()\n",
    "word_entry = session.query(DutchEnglishVocab).all()\n",
    "print(word_entry)"
   ]
  }
 ],
 "metadata": {
  "kernelspec": {
   "display_name": "venv_WW_bot",
   "language": "python",
   "name": "python3"
  },
  "language_info": {
   "codemirror_mode": {
    "name": "ipython",
    "version": 3
   },
   "file_extension": ".py",
   "mimetype": "text/x-python",
   "name": "python",
   "nbconvert_exporter": "python",
   "pygments_lexer": "ipython3",
   "version": "3.9.1"
  }
 },
 "nbformat": 4,
 "nbformat_minor": 2
}
